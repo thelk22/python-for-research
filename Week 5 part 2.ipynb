{
 "cells": [
  {
   "cell_type": "code",
   "execution_count": 1,
   "metadata": {},
   "outputs": [],
   "source": [
    "import scipy.stats as ss\n",
    "import matplotlib.pyplot as plt\n",
    "\n",
    "def gen_data(n, h, sd1, sd2):\n",
    "   x1 = ss.norm.rvs(h, sd1, n)\n",
    "   y1 = ss.norm.rvs(0, sd1, n)\n",
    "   x2 = ss.norm.rvs(-h, sd2, n)\n",
    "   y2 = ss.norm.rvs(0, sd2, n)\n",
    "   return (x1, y1, x2, y2)\n",
    "\n",
    "def plot_data(x1, y1, x2, y2):\n",
    "   plt.figure()\n",
    "   plt.plot(x1, y1, \"o\", ms=2)\n",
    "   plt.plot(x2, y2, \"o\", ms=2)\n",
    "   plt.xlabel(\"$X_1$\")\n",
    "   plt.ylabel(\"$X_2$\")"
   ]
  },
  {
   "cell_type": "code",
   "execution_count": null,
   "metadata": {},
   "outputs": [],
   "source": []
  }
 ],
 "metadata": {
  "kernelspec": {
   "display_name": "Python 3",
   "language": "python",
   "name": "python3"
  },
  "language_info": {
   "codemirror_mode": {
    "name": "ipython",
    "version": 3
   },
   "file_extension": ".py",
   "mimetype": "text/x-python",
   "name": "python",
   "nbconvert_exporter": "python",
   "pygments_lexer": "ipython3",
   "version": "3.7.6"
  }
 },
 "nbformat": 4,
 "nbformat_minor": 4
}
